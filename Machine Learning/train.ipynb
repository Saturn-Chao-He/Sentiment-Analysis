{
 "cells": [
  {
   "cell_type": "markdown",
   "metadata": {
    "colab_type": "text",
    "id": "view-in-github"
   },
   "source": [
    "<a href=\"https://colab.research.google.com/github/Sumegha22/Coronavirus-Tweet-Sentiment-Analysis-Classification-ML-Project/blob/main/SUMANA%7C%7C_Coronavirus_Tweets_Sentiment_Analysis_Classification_ML_Project_.ipynb\" target=\"_parent\"><img src=\"https://colab.research.google.com/assets/colab-badge.svg\" alt=\"Open In Colab\"/></a>"
   ]
  },
  {
   "cell_type": "code",
   "execution_count": null,
   "metadata": {
    "id": "M8Vqi-pPk-HR"
   },
   "outputs": [],
   "source": [
    "import numpy as np\n",
    "import pandas as pd\n",
    "import matplotlib.pyplot as plt\n",
    "import seaborn as sns\n",
    "import string\n",
    "from wordcloud import WordCloud\n",
    "import nltk\n",
    "nltk.download('all',quiet=True)\n",
    "from PIL import Image\n",
    "\n",
    "from sklearn.metrics import *\n",
    "from sklearn.model_selection import train_test_split\n",
    "from sklearn.linear_model import LogisticRegression\n",
    "from sklearn.tree import DecisionTreeClassifier\n",
    "from xgboost import XGBClassifier\n",
    "from sklearn.model_selection import GridSearchCV\n",
    "from sklearn.svm import SVC\n",
    "from sklearn.neighbors import KNeighborsClassifier\n",
    "from sklearn.metrics import confusion_matrix,classification_report\n",
    "from sklearn.model_selection import cross_val_score\n",
    "\n",
    "import warnings\n",
    "warnings.filterwarnings('ignore')"
   ]
  },
  {
   "cell_type": "code",
   "execution_count": null,
   "metadata": {
    "id": "9xnzB4ocgopf"
   },
   "outputs": [],
   "source": [
    "train_file_path = \"train.csv\"\n",
    "dev_file_path = \"val.csv\"\n",
    "test_file_path = \"test.csv\"\n",
    "\n",
    "tweet_train =pd.read_csv(train_file_path)\n",
    "tweet_dev =pd.read_csv(dev_file_path)\n",
    "tweet_test =pd.read_csv(test_file_path)"
   ]
  },
  {
   "cell_type": "code",
   "execution_count": null,
   "metadata": {},
   "outputs": [],
   "source": [
    "tweet_train.head()"
   ]
  },
  {
   "cell_type": "code",
   "execution_count": null,
   "metadata": {
    "colab": {
     "base_uri": "https://localhost:8080/"
    },
    "id": "Kllu7SJgmLij",
    "outputId": "a1381646-a0b6-4ae3-dec1-18138acff6a6"
   },
   "outputs": [],
   "source": [
    "tweet_train.shape"
   ]
  },
  {
   "cell_type": "code",
   "execution_count": null,
   "metadata": {
    "colab": {
     "base_uri": "https://localhost:8080/"
    },
    "id": "wz8oCtgfC9E_",
    "outputId": "861b430b-e5e4-4b60-fe64-b15253648fe6"
   },
   "outputs": [],
   "source": [
    "tweet_train.columns"
   ]
  },
  {
   "cell_type": "code",
   "execution_count": null,
   "metadata": {
    "colab": {
     "base_uri": "https://localhost:8080/"
    },
    "id": "PQ9j4GgEDEVN",
    "outputId": "c19419f9-c9f7-4788-e7aa-f356f930bf63"
   },
   "outputs": [],
   "source": [
    "tweet_train.index"
   ]
  },
  {
   "cell_type": "code",
   "execution_count": null,
   "metadata": {
    "colab": {
     "base_uri": "https://localhost:8080/"
    },
    "id": "e9hRXRi6meOf",
    "outputId": "30290ea7-0744-4a8a-de07-fe910bc21efd"
   },
   "outputs": [],
   "source": [
    "tweet_train.info()"
   ]
  },
  {
   "cell_type": "code",
   "execution_count": null,
   "metadata": {
    "colab": {
     "base_uri": "https://localhost:8080/"
    },
    "id": "1sLdpKYkmox0",
    "outputId": "aac711e2-004c-4bc0-cd29-519e076e53b1"
   },
   "outputs": [],
   "source": [
    "tweet_train.duplicated().sum()\n",
    "tweet_dev.duplicated().sum()\n",
    "tweet_test.duplicated().sum()"
   ]
  },
  {
   "cell_type": "code",
   "execution_count": null,
   "metadata": {
    "colab": {
     "base_uri": "https://localhost:8080/"
    },
    "id": "GgHWkxvamxVg",
    "outputId": "d7aa5fad-fe0b-4827-a75f-8c68d2fdc268"
   },
   "outputs": [],
   "source": [
    "tweet_train.isna().sum()\n",
    "tweet_dev.isna().sum()\n",
    "tweet_test.isna().sum()"
   ]
  },
  {
   "cell_type": "code",
   "execution_count": null,
   "metadata": {
    "colab": {
     "base_uri": "https://localhost:8080/"
    },
    "id": "3q5wnI3om9sJ",
    "outputId": "eca8ab4f-ce16-4977-cd36-87e003e12504"
   },
   "outputs": [],
   "source": [
    "tweet_train.isnull().sum().sort_values(ascending=False)\n",
    "tweet_dev.isnull().sum().sort_values(ascending=False)\n",
    "tweet_test.isnull().sum().sort_values(ascending=False)"
   ]
  },
  {
   "cell_type": "code",
   "execution_count": null,
   "metadata": {
    "colab": {
     "base_uri": "https://localhost:8080/"
    },
    "id": "j7xfkqrt5Ag5",
    "outputId": "d97028ac-44e6-4327-827f-1031e08ab337"
   },
   "outputs": [],
   "source": [
    "tweet_train.columns\n",
    "tweet_dev.columns\n",
    "tweet_test.columns"
   ]
  },
  {
   "cell_type": "code",
   "execution_count": null,
   "metadata": {
    "colab": {
     "base_uri": "https://localhost:8080/",
     "height": 394
    },
    "id": "DnOaZdaE5Q5t",
    "outputId": "315ff671-ba78-4d8a-bc28-8a3e133ee3cc"
   },
   "outputs": [],
   "source": [
    "tweet_train.describe(include='all')\n",
    "tweet_dev.describe(include='all')\n",
    "tweet_test.describe(include='all')"
   ]
  },
  {
   "cell_type": "code",
   "execution_count": null,
   "metadata": {
    "colab": {
     "base_uri": "https://localhost:8080/"
    },
    "id": "zms12Yq5n-jE",
    "outputId": "3312477e-d4dc-4711-9412-d9ff92e10db1"
   },
   "outputs": [],
   "source": [
    "print(tweet_train.apply(lambda col: col.unique()))\n",
    "print(tweet_dev.apply(lambda col: col.unique()))  \n",
    "print(tweet_test.apply(lambda col: col.unique()))"
   ]
  },
  {
   "cell_type": "code",
   "execution_count": null,
   "metadata": {
    "colab": {
     "base_uri": "https://localhost:8080/"
    },
    "id": "yoedvwAcIc3u",
    "outputId": "2c8ea8ef-2c36-4ffb-dc0e-16141cabcbad"
   },
   "outputs": [],
   "source": [
    "tweet_train.Sentiment.unique()\n",
    "tweet_dev.Sentiment.unique()\n",
    "tweet_test.Sentiment.unique()"
   ]
  },
  {
   "cell_type": "code",
   "execution_count": null,
   "metadata": {
    "colab": {
     "base_uri": "https://localhost:8080/",
     "height": 206
    },
    "id": "7v_ESjsspbW7",
    "outputId": "9c852f80-33bc-41c1-8271-31a514d0da63"
   },
   "outputs": [],
   "source": [
    "replace_values = {\"Sentiment\":{1:'Negative', 0:'Positive'}}\n",
    "tweet_train = tweet_train.replace(replace_values)\n",
    "tweet_dev = tweet_dev.replace(replace_values)\n",
    "tweet_test = tweet_test.replace(replace_values)\n",
    "tweet_train.head()"
   ]
  },
  {
   "cell_type": "code",
   "execution_count": null,
   "metadata": {},
   "outputs": [],
   "source": [
    "sentiment_count = tweet_train['Sentiment'].value_counts().reset_index()\n",
    "sentiment_count.columns = ['Sentiment','count']\n",
    "sentiment_count"
   ]
  },
  {
   "cell_type": "code",
   "execution_count": null,
   "metadata": {
    "colab": {
     "base_uri": "https://localhost:8080/",
     "height": 472
    },
    "id": "0xuozhUpQQxg",
    "outputId": "d69dfd29-271c-49f3-9cdb-50a95c4fa2cc"
   },
   "outputs": [],
   "source": [
    "plt.figure(figsize=(20,7))\n",
    "ax = sns.barplot(x=\"Sentiment\", y='count', data=sentiment_count)\n",
    "ax.set_title(\"Proportion of Sentiment\", fontsize=20)\n",
    "ax.set_xlabel(\"Sentiment\", fontsize=20)\n",
    "ax.set_ylabel('count', fontsize=20)"
   ]
  },
  {
   "cell_type": "code",
   "execution_count": null,
   "metadata": {
    "id": "E8RE_4SER78k"
   },
   "outputs": [],
   "source": [
    "tweet_train.head()"
   ]
  },
  {
   "cell_type": "code",
   "execution_count": null,
   "metadata": {
    "colab": {
     "base_uri": "https://localhost:8080/",
     "height": 143
    },
    "id": "qBCS_zhGSCth",
    "outputId": "07b1cf9f-af71-40cc-9204-334956a34eaa"
   },
   "outputs": [],
   "source": [
    "sentiment_count1 = tweet_train['Sentiment'].value_counts().reset_index()\n",
    "sentiment_count1.columns = ['Sentiment','count']\n",
    "sentiment_count1"
   ]
  },
  {
   "cell_type": "code",
   "execution_count": null,
   "metadata": {
    "colab": {
     "base_uri": "https://localhost:8080/",
     "height": 683
    },
    "id": "R4YgtaqtYklH",
    "outputId": "61c1933f-467e-4084-8ef9-a3f7af7e78ce"
   },
   "outputs": [],
   "source": [
    "sentiment_count1 = tweet_train['Sentiment'].value_counts().to_list()\n",
    "labels=['Positive','Negative']\n",
    "plt.figure(figsize=(10,8))\n",
    "plt.pie(x=sentiment_count1,explode=[0.04,0.04],shadow= True,labels=labels,autopct=\"%.2f%%\",radius=1.1)\n",
    "plt.title(\"Proportion Of Sentiment\", fontsize=20)\n",
    "plt.legend(bbox_to_anchor=(1.05, 1), loc='upper left', borderaxespad=0)\n",
    "plt.show()"
   ]
  },
  {
   "cell_type": "code",
   "execution_count": null,
   "metadata": {},
   "outputs": [],
   "source": [
    "sentiment_count2 = tweet_dev['Sentiment'].value_counts().to_list()\n",
    "labels=['Positive','Negative']\n",
    "plt.figure(figsize=(10,8))\n",
    "plt.pie(x=sentiment_count2,explode=[0.04,0.04],shadow= True,labels=labels,autopct=\"%.2f%%\",radius=1.1)\n",
    "plt.title(\"Proportion Of Sentiment\", fontsize=20)\n",
    "plt.legend(bbox_to_anchor=(1.05, 1), loc='upper left', borderaxespad=0)\n",
    "plt.show()"
   ]
  },
  {
   "cell_type": "code",
   "execution_count": null,
   "metadata": {},
   "outputs": [],
   "source": [
    "sentiment_count3 = tweet_test['Sentiment'].value_counts().to_list()\n",
    "labels=['Positive','Negative']\n",
    "plt.figure(figsize=(10,8))\n",
    "plt.pie(x=sentiment_count3,explode=[0.04,0.04],shadow= True,labels=labels,autopct=\"%.2f%%\",radius=1.1)\n",
    "plt.title(\"Proportion Of Sentiment\", fontsize=20)\n",
    "plt.legend(bbox_to_anchor=(1.05, 1), loc='upper left', borderaxespad=0)\n",
    "plt.show()"
   ]
  },
  {
   "cell_type": "code",
   "execution_count": null,
   "metadata": {
    "colab": {
     "base_uri": "https://localhost:8080/"
    },
    "id": "iRsAHk1K0fpS",
    "outputId": "210719a6-e738-4a4d-dfe4-5ea7489b7915"
   },
   "outputs": [],
   "source": [
    "tweet_train.isnull().sum().sort_values(ascending=False)\n",
    "tweet_dev.isnull().sum().sort_values(ascending=False)\n",
    "tweet_test.isnull().sum().sort_values(ascending=False)"
   ]
  },
  {
   "cell_type": "code",
   "execution_count": null,
   "metadata": {
    "colab": {
     "base_uri": "https://localhost:8080/"
    },
    "id": "M6w2CzZf04JK",
    "outputId": "584ff41c-a001-4c2d-f494-f99c79aeae83"
   },
   "outputs": [],
   "source": [
    "print(tweet_train[['OriginalTweet', 'Sentiment']].info())\n",
    "print(tweet_dev[['OriginalTweet', 'Sentiment']].info())\n",
    "print(tweet_test[['OriginalTweet', 'Sentiment']].info())"
   ]
  },
  {
   "cell_type": "code",
   "execution_count": null,
   "metadata": {
    "id": "O2AHr3a2TPZ8"
   },
   "outputs": [],
   "source": [
    "import nltk\n",
    "from nltk.corpus import stopwords\n",
    "stop = stopwords.words('english')"
   ]
  },
  {
   "cell_type": "code",
   "execution_count": null,
   "metadata": {
    "id": "rCrxlBBDUqhf"
   },
   "outputs": [],
   "source": [
    "from nltk.stem.porter import PorterStemmer\n",
    "ps = PorterStemmer()"
   ]
  },
  {
   "cell_type": "code",
   "execution_count": null,
   "metadata": {
    "id": "HciLI9aCaU4J"
   },
   "outputs": [],
   "source": [
    "import regex as re"
   ]
  },
  {
   "cell_type": "code",
   "execution_count": null,
   "metadata": {
    "id": "D0HFchD8klYR"
   },
   "outputs": [],
   "source": [
    "import re\n",
    "import nltk\n",
    "from nltk.corpus import stopwords\n",
    "from nltk.stem import PorterStemmer, WordNetLemmatizer\n",
    "import string\n",
    "\n",
    "def transform_text(text):\n",
    "    # Convert text to lowercase\n",
    "    text = text.lower()\n",
    "    # Remove URLs\n",
    "    text = re.sub(r'http\\S+', '', text)\n",
    "    # Remove special entities, tickers, and URLs\n",
    "    text = re.sub(r'\\&\\w*;|#\\w*|@\\w*', '', text)\n",
    "    text = re.sub(r'\\$\\w*', '', text)\n",
    "    text = re.sub(r'https?:\\/\\/.*\\/\\w*', '', text)\n",
    "    # Remove small words, whitespace, and non-alphanumeric characters\n",
    "    text = re.sub(r'\\b\\w{1,2}\\b', '', text)\n",
    "    text = re.sub(r'\\s\\s+', ' ', text).strip()\n",
    "    \n",
    "    # Tokenize text into words\n",
    "    words = nltk.word_tokenize(text)\n",
    "    \n",
    "    # Remove non-alphanumeric characters\n",
    "    words = [word for word in words if word.isalnum()]\n",
    "    \n",
    "    # Remove stopwords and punctuation\n",
    "    stopwords_set = set(stopwords.words('english'))\n",
    "    punctuation_set = set(string.punctuation)\n",
    "    words = [word for word in words if word not in stopwords_set and word not in punctuation_set]\n",
    "    \n",
    "    # Lemmatize words\n",
    "    lemmatizer = WordNetLemmatizer()\n",
    "    lemmatized_words = [lemmatizer.lemmatize(word) for word in words]\n",
    "    \n",
    "    # Join words into a string and return\n",
    "    return ' '.join(lemmatized_words)\n"
   ]
  },
  {
   "cell_type": "code",
   "execution_count": null,
   "metadata": {
    "id": "opAQO1LXTz8e"
   },
   "outputs": [],
   "source": [
    "tweet_train[\"Clean_Tweets\"] = tweet_train['OriginalTweet'].apply(transform_text)\n",
    "tweet_dev[\"Clean_Tweets\"] = tweet_dev['OriginalTweet'].apply(transform_text)\n",
    "tweet_test[\"Clean_Tweets\"] = tweet_test['OriginalTweet'].apply(transform_text)"
   ]
  },
  {
   "cell_type": "code",
   "execution_count": null,
   "metadata": {
    "colab": {
     "base_uri": "https://localhost:8080/",
     "height": 72
    },
    "id": "_9AmnW7po1eX",
    "outputId": "fc166f1c-c46e-459c-85b7-9f3eaf34fce9"
   },
   "outputs": [],
   "source": [
    "tweet_train.iloc[56][\"OriginalTweet\"]\n",
    "tweet_dev.iloc[56][\"OriginalTweet\"]\n",
    "tweet_test.iloc[56][\"OriginalTweet\"]"
   ]
  },
  {
   "cell_type": "code",
   "execution_count": null,
   "metadata": {
    "colab": {
     "base_uri": "https://localhost:8080/",
     "height": 337
    },
    "id": "JHFdV2RfUdFC",
    "outputId": "429f9a0b-6069-4323-aaf5-6b34d17fb3e8"
   },
   "outputs": [],
   "source": [
    "tweet_train.head()"
   ]
  },
  {
   "cell_type": "code",
   "execution_count": null,
   "metadata": {
    "id": "GXNJ2reGWwzh"
   },
   "outputs": [],
   "source": [
    "tweet_train['temp_list'] = tweet_train['Clean_Tweets'].apply(lambda x:str(x).split())\n",
    "tweet_dev['temp_list'] = tweet_dev['Clean_Tweets'].apply(lambda x:str(x).split())\n",
    "tweet_test['temp_list'] = tweet_test['Clean_Tweets'].apply(lambda x:str(x).split())"
   ]
  },
  {
   "cell_type": "code",
   "execution_count": null,
   "metadata": {
    "colab": {
     "base_uri": "https://localhost:8080/"
    },
    "id": "9V4TaetUW76w",
    "outputId": "ee03ba19-a3ae-44c5-95e9-7679f2dfa739"
   },
   "outputs": [],
   "source": [
    "tweet_train['temp_list']\n",
    "tweet_dev['temp_list']\n",
    "tweet_test['temp_list']"
   ]
  },
  {
   "cell_type": "code",
   "execution_count": null,
   "metadata": {
    "id": "zsyUmQ1EdwO_"
   },
   "outputs": [],
   "source": [
    "X_train = tweet_train[\"Clean_Tweets\"]  \n",
    "y_train = tweet_train[\"Sentiment\"]     \n",
    "\n",
    "X_dev = tweet_dev[\"Clean_Tweets\"]     \n",
    "y_dev = tweet_dev[\"Sentiment\"]         \n",
    "\n",
    "X_test = tweet_test[\"Clean_Tweets\"]    \n",
    "y_test = tweet_test[\"Sentiment\"]       "
   ]
  },
  {
   "cell_type": "code",
   "execution_count": null,
   "metadata": {
    "id": "0iucmWDajmny"
   },
   "outputs": [],
   "source": [
    "from sklearn.feature_extraction.text import CountVectorizer\n",
    "bw_vectorizer = CountVectorizer(binary=False,max_df=1.0,min_df=5,ngram_range=(1,2))\n",
    "\n",
    "bw_X_train = bw_vectorizer.fit_transform(X_train.astype(str).str.strip())\n",
    "bw_X_dev = bw_vectorizer.transform(X_dev.astype(str).str.strip())\n",
    "bw_X_test = bw_vectorizer.transform(X_test.astype(str).str.strip())"
   ]
  },
  {
   "cell_type": "code",
   "execution_count": null,
   "metadata": {
    "colab": {
     "base_uri": "https://localhost:8080/",
     "height": 117
    },
    "id": "DZQOeTqinn86",
    "outputId": "af06b0eb-da12-45ca-e949-ba3200244acd"
   },
   "outputs": [],
   "source": [
    "lr_cv = LogisticRegression()\n",
    "parameters = {\n",
    "    'penalty': ['l1', 'l2'],  \n",
    "    'C': [100, 10, 1.0, 0.1, 0.01]  \n",
    "}\n",
    "\n",
    "logreg_Gcv = GridSearchCV(lr_cv, parameters, cv=10)\n",
    "logreg_Gcv.fit(bw_X_train, y_train)\n",
    "\n",
    "y_dev_pred_lr_cv = logreg_Gcv.predict(bw_X_dev)\n",
    "print(\"Validation Accuracy:\", accuracy_score(y_dev, y_dev_pred_lr_cv))\n",
    "print(\"Validation Classification Report:\")\n",
    "print(classification_report(y_dev, y_dev_pred_lr_cv))\n",
    "\n",
    "y_test_pred_lr_cv = logreg_Gcv.predict(bw_X_test)\n",
    "print(\"Test Accuracy:\", accuracy_score(y_test, y_test_pred_lr_cv))\n",
    "print(\"Test Classification Report:\")\n",
    "print(classification_report(y_test, y_test_pred_lr_cv))"
   ]
  },
  {
   "cell_type": "code",
   "execution_count": null,
   "metadata": {
    "id": "0aH7nSdbtP3R"
   },
   "outputs": [],
   "source": [
    "dt_cv = DecisionTreeClassifier()\n",
    "cv_score_dt_cv = cross_val_score(dt_cv, bw_X_train, y_train, cv=5)\n",
    "print(\"CV Score: {}\" .format(np.mean(cv_score_dt_cv)))\n",
    "dt_cv.fit(bw_X_train, y_train)\n",
    "\n",
    "pred_dt_cv_dev = dt_cv.predict(bw_X_dev)\n",
    "print(\"Validation Accuracy:\", accuracy_score(y_dev, pred_dt_cv_dev))\n",
    "print(\"Validation Classification Report:\")\n",
    "print(classification_report(y_dev, pred_dt_cv_dev))\n",
    "\n",
    "pred_dt_cv_test = dt_cv.predict(bw_X_test)\n",
    "print(\"Test Accuracy:\", accuracy_score(y_test, pred_dt_cv_test))\n",
    "print(\"Test Classification Report:\")\n",
    "print(classification_report(y_test, pred_dt_cv_test))"
   ]
  },
  {
   "cell_type": "code",
   "execution_count": null,
   "metadata": {
    "id": "ThXf4h74yhH8"
   },
   "outputs": [],
   "source": [
    "from sklearn.naive_bayes import GaussianNB, MultinomialNB, BernoulliNB\n",
    "from sklearn.metrics import accuracy_score, confusion_matrix, precision_score"
   ]
  },
  {
   "cell_type": "code",
   "execution_count": null,
   "metadata": {
    "id": "kGG3qJe1yotH"
   },
   "outputs": [],
   "source": [
    "mnb = MultinomialNB()\n",
    "bnb = BernoulliNB()"
   ]
  },
  {
   "cell_type": "code",
   "execution_count": null,
   "metadata": {
    "colab": {
     "base_uri": "https://localhost:8080/"
    },
    "id": "3JIiJi3X2zjG",
    "outputId": "f993f036-ab21-49d6-e2a3-44d584b16e69"
   },
   "outputs": [],
   "source": [
    "mnb.fit(bw_X_train, y_train)\n",
    "y_pred2_dev = mnb.predict(bw_X_dev)\n",
    "accuracy_mnb_dev = accuracy_score(y_dev, y_pred2_dev)\n",
    "print(\"Validation Accuracy: \")\n",
    "print(accuracy_mnb_dev)\n",
    "print(\"Validation Classification Report:\")\n",
    "print(classification_report(y_dev, y_pred2_dev))\n",
    "\n",
    "y_pred2_test = mnb.predict(bw_X_test)\n",
    "accuracy_mnb_test = accuracy_score(y_test, y_pred2_test)\n",
    "print(\"Test Accuracy: \")\n",
    "print(accuracy_mnb_test)\n",
    "print(\"Test Classification Report:\")\n",
    "print(classification_report(y_test, y_pred2_test))"
   ]
  },
  {
   "cell_type": "code",
   "execution_count": null,
   "metadata": {
    "colab": {
     "base_uri": "https://localhost:8080/"
    },
    "id": "loV2RoCq5WW4",
    "outputId": "bc78c6c1-5c2e-4588-aa76-9de49e2fa7a5"
   },
   "outputs": [],
   "source": [
    "bnb.fit(bw_X_train, y_train)\n",
    "\n",
    "y_pred3_dev = bnb.predict(bw_X_dev)\n",
    "accuracy_bnb_dev = accuracy_score(y_dev, y_pred3_dev)\n",
    "print(\"Validation Accuracy: \")\n",
    "print(accuracy_bnb_dev)\n",
    "print(\"Validation Classification Report:\")\n",
    "print(classification_report(y_dev, y_pred3_dev))\n",
    "\n",
    "y_pred3_test = bnb.predict(bw_X_test)\n",
    "accuracy_bnb_test = accuracy_score(y_test, y_pred3_test)\n",
    "print(\"Test Accuracy: \")\n",
    "print(accuracy_bnb_test)\n",
    "print(\"Test Classification Report:\")\n",
    "print(classification_report(y_test,y_pred3_test))"
   ]
  },
  {
   "cell_type": "code",
   "execution_count": null,
   "metadata": {
    "colab": {
     "base_uri": "https://localhost:8080/"
    },
    "id": "_fEdms3kk4PA",
    "outputId": "2f165a6e-9029-41f6-a883-acc85fc42976"
   },
   "outputs": [],
   "source": [
    "from sklearn.neighbors import KNeighborsClassifier\n",
    "from sklearn.model_selection import GridSearchCV\n",
    "\n",
    "knn = KNeighborsClassifier()\n",
    "param_grid = {'n_neighbors': [1, 2, 3, 4, 5, 6, 7, 8,9]}\n",
    "grid_search = GridSearchCV(estimator=knn, param_grid=param_grid, cv=5)\n",
    "grid_search.fit(bw_X_train, y_train)\n",
    "print('Best hyperparameters:', grid_search.best_params_)\n",
    "print('Mean cross-validation score:', grid_search.best_score_)\n",
    "pred_knn_cv = grid_search.predict(bw_X_test)\n",
    "pred_knn_cv\n",
    "accuracy_KNN = accuracy_score(y_test, pred_knn_cv)\n",
    "print(\"Accuracy :\",(accuracy_KNN))\n",
    "print(classification_report(y_test, pred_knn_cv))"
   ]
  },
  {
   "cell_type": "code",
   "execution_count": null,
   "metadata": {
    "id": "kavAMh18ozFk"
   },
   "outputs": [],
   "source": [
    "svm_cv = SVC()\n",
    "svm_cv.fit(bw_X_train,y_train)\n",
    "\n",
    "pred_svm_cv = svm_cv.predict(bw_X_test)\n",
    "\n",
    "pred_svm_cv\n",
    "\n",
    "accuracy_svc = accuracy_score(y_test,pred_svm_cv)\n",
    "print(\"Accuracy :\",(accuracy_svc))\n",
    "\n",
    "print(classification_report(y_test,pred_svm_cv))"
   ]
  },
  {
   "cell_type": "code",
   "execution_count": null,
   "metadata": {
    "colab": {
     "base_uri": "https://localhost:8080/"
    },
    "id": "2AYyHXUWtJLq",
    "outputId": "7cf0df05-a0b6-4f4e-dd01-08be25e643e3"
   },
   "outputs": [],
   "source": [
    "from sklearn.ensemble import RandomForestClassifier\n",
    "from sklearn.feature_extraction.text import CountVectorizer\n",
    "\n",
    "rf_clf =RandomForestClassifier(n_estimators=100, random_state=42)\n",
    "rf_clf.fit(bw_X_train, y_train)\n",
    "y_pred_rf = rf_clf.predict(bw_X_test)\n",
    "accuracy_rf = (y_pred_rf == y_test).mean()\n",
    "print('Accuracy_rf:', accuracy_rf)\n",
    "print(classification_report(y_test,y_pred_rf))"
   ]
  },
  {
   "cell_type": "code",
   "execution_count": null,
   "metadata": {
    "colab": {
     "base_uri": "https://localhost:8080/"
    },
    "id": "AbbQNRaOzFhX",
    "outputId": "49ff452f-95b5-42f7-b72c-0905e353e178"
   },
   "outputs": [],
   "source": [
    "from sklearn.linear_model import SGDClassifier\n",
    "from sklearn.feature_extraction.text import CountVectorizer\n",
    "from sklearn.metrics import accuracy_score\n",
    "\n",
    "sgd_clf = SGDClassifier(loss='hinge', penalty='l2', alpha=0.0001, random_state=42, max_iter=1000)\n",
    "sgd_clf.fit(bw_X_train, y_train)\n",
    "y_pred_sgd = sgd_clf.predict(bw_X_test)\n",
    "accuracy_sgd= accuracy_score(y_test, y_pred_sgd)\n",
    "print('Accuracy_sgd:', accuracy_sgd)\n",
    "print(classification_report(y_test,y_pred_sgd))"
   ]
  },
  {
   "cell_type": "code",
   "execution_count": null,
   "metadata": {
    "id": "vO9h6sW55hUt"
   },
   "outputs": [],
   "source": [
    "X_train = tweet_train[\"Clean_Tweets\"]\n",
    "y_train = tweet_train[\"Sentiment\"]\n",
    "\n",
    "X_dev = tweet_dev[\"Clean_Tweets\"]\n",
    "y_dev = tweet_dev[\"Sentiment\"]\n",
    "\n",
    "X_test = tweet_test[\"Clean_Tweets\"]\n",
    "y_test = tweet_test[\"Sentiment\"]"
   ]
  },
  {
   "cell_type": "code",
   "execution_count": null,
   "metadata": {
    "colab": {
     "base_uri": "https://localhost:8080/"
    },
    "id": "q4E3qZ4M7OKm",
    "outputId": "2b00203d-19ee-4885-9c7c-214d91d3fd6e"
   },
   "outputs": [],
   "source": [
    "print(X_train.shape)\n",
    "y_test.shape"
   ]
  },
  {
   "cell_type": "code",
   "execution_count": null,
   "metadata": {
    "id": "-yr-J-av7oDN"
   },
   "outputs": [],
   "source": [
    "from sklearn.feature_extraction.text import TfidfVectorizer\n",
    "\n",
    "tfidf_vectorizer = TfidfVectorizer(use_idf=True, max_df=1.0, min_df=5, ngram_range=(1, 2), sublinear_tf=True)\n",
    "X_train_tfidf = tfidf_vectorizer.fit_transform(X_train.astype(str).str.strip())\n",
    "X_dev_tfidf = tfidf_vectorizer.transform(X_dev.astype(str).str.strip())\n",
    "X_test_tfidf = tfidf_vectorizer.transform(X_test.astype(str).str.strip())"
   ]
  },
  {
   "cell_type": "code",
   "execution_count": null,
   "metadata": {
    "colab": {
     "base_uri": "https://localhost:8080/",
     "height": 117
    },
    "id": "mtEC8Doy8FlU",
    "outputId": "aa3305c5-10fc-49ef-a07c-5ac78a39e82c"
   },
   "outputs": [],
   "source": [
    "lr_model = LogisticRegression()\n",
    "parameters = dict(penalty=['l1', 'l2'],C=[100, 10, 1.0, 0.1, 0.01])\n",
    "lr_tv_Gcv=GridSearchCV(lr_model,parameters,cv=10)\n",
    "lr_tv_Gcv.fit(X_train_tfidf, y_train)\n",
    "y_dev_pred = lr_tv_Gcv.predict(X_dev_tfidf)\n",
    "print(\"Validation Accuracy:\", accuracy_score(y_dev, y_dev_pred))\n",
    "print(\"Validation Classification Report:\")\n",
    "print(classification_report(y_dev, y_dev_pred))\n",
    "\n",
    "y_test_pred = lr_tv_Gcv.predict(X_test_tfidf)\n",
    "print(\"Test Accuracy:\", accuracy_score(y_test, y_test_pred))\n",
    "print(\"Test Classification Report:\")\n",
    "print(classification_report(y_test, y_test_pred))"
   ]
  },
  {
   "cell_type": "code",
   "execution_count": null,
   "metadata": {
    "id": "WuuhJMTJ9pzN"
   },
   "outputs": [],
   "source": [
    "dt_tv = DecisionTreeClassifier()\n",
    "dt_tv.fit(X_train_tfidf, y_train)\n",
    "pred_dt_tv = dt_tv.predict(X_test_tfidf)\n",
    "pred_dt_tv\n",
    "\n",
    "cv_score_dt_tv = cross_val_score(dt_tv, X_train_tfidf, y_train, cv=5)\n",
    "print(\"Accuracy: {}\" .format(np.mean(cv_score_dt_tv)))\n",
    "print(classification_report(y_test, pred_dt_tv))\n"
   ]
  },
  {
   "cell_type": "code",
   "execution_count": null,
   "metadata": {
    "id": "XkBO3_cg-oYB"
   },
   "outputs": [],
   "source": [
    "from sklearn.naive_bayes import GaussianNB,MultinomialNB,BernoulliNB\n",
    "from sklearn.metrics import accuracy_score,confusion_matrix,precision_score"
   ]
  },
  {
   "cell_type": "code",
   "execution_count": null,
   "metadata": {
    "id": "ZAUShOGg-ocZ"
   },
   "outputs": [],
   "source": [
    "mnb = MultinomialNB()\n",
    "bnb = BernoulliNB()"
   ]
  },
  {
   "cell_type": "code",
   "execution_count": null,
   "metadata": {
    "colab": {
     "base_uri": "https://localhost:8080/"
    },
    "id": "wSdhvi3o-ogg",
    "outputId": "15eba9c1-cb62-4df0-843a-e7ac68651db0"
   },
   "outputs": [],
   "source": [
    "mnb.fit(X_train_tfidf,y_train)\n",
    "y_pred2_mnb_tv = mnb.predict(X_test_tfidf)\n",
    "accuracy_mnb_tv = accuracy_score(y_test, y_pred2_mnb_tv)\n",
    "print(accuracy_score(y_test, y_pred2_mnb_tv))\n",
    "print(classification_report(y_test, y_pred2_mnb_tv))"
   ]
  },
  {
   "cell_type": "code",
   "execution_count": null,
   "metadata": {
    "colab": {
     "base_uri": "https://localhost:8080/"
    },
    "id": "PC2uCmatA4mI",
    "outputId": "d326cd09-b543-4d2b-fe82-ad95bc947f1c"
   },
   "outputs": [],
   "source": [
    "bnb.fit(X_train_tfidf,y_train)\n",
    "y_pred3_bnb_tv = bnb.predict(X_test_tfidf)\n",
    "accuracy_bnb_tv = accuracy_score(y_test, y_pred3_bnb_tv)\n",
    "print(accuracy_score(y_test,y_pred3_bnb_tv))\n",
    "print(classification_report(y_test,y_pred3_bnb_tv))"
   ]
  },
  {
   "cell_type": "code",
   "execution_count": null,
   "metadata": {
    "colab": {
     "base_uri": "https://localhost:8080/",
     "height": 117
    },
    "id": "ybJJbvTczlj7",
    "outputId": "358e784e-12c4-4a53-a669-e4f8e701ad84"
   },
   "outputs": [],
   "source": [
    "knn = KNeighborsClassifier()\n",
    "param = {'n_neighbors': [1,2,3,4,5,6,7,8]}\n",
    "knn_tv = GridSearchCV(estimator=knn,param_grid=param)\n",
    "\n",
    "knn_tv.fit(X_train_tfidf, y_train)\n",
    "\n",
    "pred_knn_tv = knn_tv.predict(X_test_tfidf)\n",
    "pred_knn_tv\n",
    "accuracy_KNN_tv = accuracy_score(y_test,pred_knn_tv)\n",
    "print(\"Accuracy :\",(accuracy_KNN_tv))\n",
    "print(classification_report(y_test,pred_knn_tv))"
   ]
  },
  {
   "cell_type": "code",
   "execution_count": null,
   "metadata": {},
   "outputs": [],
   "source": [
    "svm_cv = SVC()\n",
    "\n",
    "svm_cv.fit(X_train_tfidf,y_train)\n",
    "\n",
    "pred_svm_cv = svm_cv.predict(X_test_tfidf)\n",
    "\n",
    "accuracy_svc = accuracy_score(y_test,pred_svm_cv)\n",
    "print(\"Accuracy : \",(accuracy_svc))\n",
    "print(classification_report(y_test,pred_svm_cv))"
   ]
  },
  {
   "cell_type": "code",
   "execution_count": null,
   "metadata": {
    "colab": {
     "base_uri": "https://localhost:8080/"
    },
    "id": "zYq74TvcS_2J",
    "outputId": "48b14a30-2873-4fa5-9ae5-87f6dcb1dca6"
   },
   "outputs": [],
   "source": [
    "from sklearn.ensemble import RandomForestClassifier\n",
    "from sklearn.feature_extraction.text import CountVectorizer\n",
    "rf_clf =RandomForestClassifier(n_estimators=100, random_state=42)\n",
    "\n",
    "rf_clf.fit(X_train_tfidf, y_train)\n",
    "\n",
    "y_pred_rf_tv = rf_clf.predict(X_test_tfidf)\n",
    "\n",
    "accuracy_tv_rf = (y_pred_rf_tv == y_test).mean()\n",
    "print('Accuracy_tv_rf:', accuracy_tv_rf)\n",
    "print(classification_report(y_test,y_pred_rf_tv))"
   ]
  },
  {
   "cell_type": "code",
   "execution_count": null,
   "metadata": {
    "colab": {
     "base_uri": "https://localhost:8080/"
    },
    "id": "neGk58a9Ucqn",
    "outputId": "eefd93af-7b47-47fd-97b9-c85cb2834230"
   },
   "outputs": [],
   "source": [
    "from sklearn.linear_model import SGDClassifier\n",
    "from sklearn.feature_extraction.text import CountVectorizer\n",
    "from sklearn.metrics import accuracy_score\n",
    "sgd_clf = SGDClassifier(loss='hinge', penalty='l2', alpha=0.0001, random_state=42, max_iter=1000)\n",
    "\n",
    "sgd_clf.fit(X_train_tfidf, y_train)\n",
    "\n",
    "y_pred_sgd_tv = sgd_clf.predict(X_test_tfidf)\n",
    "\n",
    "accuracy_sgd_tv= accuracy_score(y_test, y_pred_sgd_tv)\n",
    "print('Accuracy:', accuracy_sgd_tv)\n",
    "print(classification_report(y_test,y_pred_sgd_tv ))"
   ]
  }
 ],
 "metadata": {
  "colab": {
   "collapsed_sections": [
    "gIfDvo9L0UH2"
   ],
   "include_colab_link": true,
   "provenance": []
  },
  "gpuClass": "standard",
  "kernelspec": {
   "display_name": "bert",
   "language": "python",
   "name": "python3"
  },
  "language_info": {
   "codemirror_mode": {
    "name": "ipython",
    "version": 3
   },
   "file_extension": ".py",
   "mimetype": "text/x-python",
   "name": "python",
   "nbconvert_exporter": "python",
   "pygments_lexer": "ipython3",
   "version": "3.8.20"
  }
 },
 "nbformat": 4,
 "nbformat_minor": 0
}
